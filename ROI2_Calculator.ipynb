{
 "cells": [
  {
   "cell_type": "code",
   "execution_count": 1,
   "metadata": {},
   "outputs": [
    {
     "name": "stdout",
     "output_type": "stream",
     "text": [
      "Roi Calculator, Fill the information below\n",
      "====================================================================================================\n",
      "Monthly Income\n"
     ]
    }
   ],
   "source": [
    "class Roi:\n",
    "\n",
    "    def __init__(self, monthly_income = 0, monthly_expenses = 0, monthly_cash_flow = 0, annual_cash_flow = 0, total_investment = 0, roi = 0):\n",
    "        self.monthly_income = monthly_income\n",
    "        self.monthly_expenses = monthly_expenses\n",
    "        self.monthly_cash_flow = monthly_cash_flow\n",
    "        self.annual_cash_flow = annual_cash_flow\n",
    "        self.total_investment = total_investment\n",
    "        self.roi= roi\n",
    "        \n",
    "        \n",
    "    def income(self):\n",
    "        rental_income = float(input(\"Rental Income = \"))\n",
    "        laundry_income = float(input(\"Laundry Income = \"))\n",
    "        storage_income = float(input(\"Storage Income = \"))\n",
    "        misc = float(input(\"Miscelaneos Income = \"))\n",
    "    \n",
    "        monthly_income = rental_income + laundry_income + storage_income + misc\n",
    "        print(f\"Total Monthly Income = ${monthly_income}\")\n",
    "    \n",
    "    def expenses(self):\n",
    "        tax = float(input(\"Taxes = \"))\n",
    "        insurance = float(input(\"Insurance = \"))\n",
    "        electricity = float(input(\"Electricity = \"))\n",
    "        water = float(input(\"Water = \"))\n",
    "        sewer = float(input(\"Sewer = \"))\n",
    "        garbage = float(input(\"Garbage = \"))\n",
    "        gas = float(input(\"Gas = \"))\n",
    "        HOA = float(input(\"HOA = \"))\n",
    "        lawn_snow = float(input(\"Lawn and Snow = \"))\n",
    "        vacancy = float(input(\"Vacancy = \"))\n",
    "        repairs = float(input(\"Repairs = \"))\n",
    "        cap_ex = float(input(\"Capital Expenditures = \"))\n",
    "        property_mgmt= float(input(\"Property Management = \"))\n",
    "        mortgage = float(input(\"Mortgage = \"))\n",
    "        \n",
    "        monthly_expenses = tax + insurance + electricity + water + sewer + garbage + gas + HOA + lawn_snow + vacancy + repairs + cap_ex + property_mgmt + mortgage\n",
    "        print(f\"Total Monthly Expenses = ${monthly_expenses}\")\n",
    "\n",
    "\n",
    "    def cash_flow(self):\n",
    "        monthly_cash_flow = self.monthly_income - self.monthly_expenses\n",
    "        print(f\"Total Monthly Cash Flow = ${monthly_cash_flow}\")\n",
    "\n",
    "    def cash_on_cash_roi(self):\n",
    "        self.annual_cash_flow = self.monthly_cash_flow * 12\n",
    "        down_payment = float(input(\"Down Payment = \"))\n",
    "        closing_costs = float(input(\"Closing Costs = \"))\n",
    "        rehab = float(input(\"Rehab = \"))\n",
    "        misc_other = float(input(\"Miscelaneos Other = \"))\n",
    "        self.total_investments = down_payment + closing_costs + rehab + misc_other\n",
    "        self.roi = self.annual_cash_flow / self.total_investments\n",
    "        self.roi_percent = self.roi * 100\n",
    "        return self.roi_percent\n",
    "    def summary(self):\n",
    "        print(\"_\"*50)\n",
    "        print(\n",
    "            f\"\"\"\n",
    "            Total Income = ${self.monthly_income}\n",
    "            Total Expenses = ${self.monthly_expenses}\n",
    "            Monthly Cash Flow = ${self.monthly_cash_flow}\n",
    "            Annual Cash Flow = ${self.annual_cash_flow}\n",
    "            Total Investment = ${self.total_investments} \n",
    "            Return On Investments = {self.roi_percent}%\n",
    "            \"\"\"\n",
    "        )      \n",
    "   \n",
    "    \n",
    "     # define a function to run the calculator\n",
    "def Roi_calculator():\n",
    "    print(\"Roi Calculator, Fill the information below\")\n",
    "    my_roi = Roi()\n",
    "    print(\"=\"*100)\n",
    "    print(\"Monthly Income\")\n",
    "    my_roi.income()\n",
    "    print(\"Monthly Expenses\")\n",
    "    my_roi.expenses()\n",
    "    print(\"Monthly Cash Flow\")\n",
    "    my_roi.cash_flow()\n",
    "    print(\"Cash on Cash Roi\")\n",
    "    my_roi.cash_on_cash_roi()\n",
    "    print(\"ROI is\")\n",
    "    my_roi.summary()\n",
    "    \n",
    "# Invoke the run_calculator function to actually run the calculator\n",
    "Roi_calculator()\n",
    "   "
   ]
  }
 ],
 "metadata": {
  "kernelspec": {
   "display_name": "Python 3",
   "language": "python",
   "name": "python3"
  },
  "language_info": {
   "codemirror_mode": {
    "name": "ipython",
    "version": 3
   },
   "file_extension": ".py",
   "mimetype": "text/x-python",
   "name": "python",
   "nbconvert_exporter": "python",
   "pygments_lexer": "ipython3",
   "version": "3.9.13"
  },
  "orig_nbformat": 4,
  "vscode": {
   "interpreter": {
    "hash": "21e85d556c0bc04fc2e917b00bd757e316faa94474bf2750d04374887fc05f56"
   }
  }
 },
 "nbformat": 4,
 "nbformat_minor": 2
}
