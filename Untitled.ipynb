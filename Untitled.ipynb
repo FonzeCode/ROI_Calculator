{
 "cells": [
  {
   "cell_type": "code",
   "execution_count": 10,
   "id": "11f13a02",
   "metadata": {},
   "outputs": [
    {
     "ename": "TypeError",
     "evalue": "roi_calculator() missing 1 required positional argument: 'self'",
     "output_type": "error",
     "traceback": [
      "\u001b[0;31m---------------------------------------------------------------------------\u001b[0m",
      "\u001b[0;31mTypeError\u001b[0m                                 Traceback (most recent call last)",
      "Cell \u001b[0;32mIn[10], line 54\u001b[0m\n\u001b[1;32m     51\u001b[0m     total_monthly_expenses \u001b[38;5;241m=\u001b[39m monthly_expenses \u001b[38;5;241m+\u001b[39m monthly_utilities\n\u001b[1;32m     52\u001b[0m     \u001b[38;5;28mprint\u001b[39m(\u001b[38;5;124mf\u001b[39m\u001b[38;5;124m\"\u001b[39m\u001b[38;5;124m Total Monthly Expenses $\u001b[39m\u001b[38;5;132;01m{\u001b[39;00mtotal_monthly_expenses\u001b[38;5;132;01m}\u001b[39;00m\u001b[38;5;124m\"\u001b[39m)\n\u001b[0;32m---> 54\u001b[0m \u001b[43mroi_calculator\u001b[49m\u001b[43m(\u001b[49m\u001b[43m)\u001b[49m\n",
      "\u001b[0;31mTypeError\u001b[0m: roi_calculator() missing 1 required positional argument: 'self'"
     ]
    }
   ],
   "source": [
    "\n",
    "    def __init__(self, monthly_income = 0, monthly_expenses = 0, monthly_utilities =0, monthly_cash_flow = 0, annual_cash_flow = 0, total_investment = 0, roi = 0):\n",
    "        self.income = monthly_income\n",
    "        self.expenses = monthly_expenses\n",
    "        self.monthly_utilities = monthly_utilities\n",
    "        self.cash_flow = monthly_cash_flow\n",
    "        self.annual_cash_flow = annual_cash_flow\n",
    "        self.total_investment = total_investment\n",
    "        self.roi= roi\n",
    "    \n",
    "    def roi_calculator(self):\n",
    "        return self.monthly_utilities + self.monthly_expenses\n",
    "     \n",
    "    # Method for income\n",
    "    def monthly_income(self):\n",
    "        rental_income = float(input(\"Rental Income = \"))\n",
    "        laundry_income = float(input(\"Laundry Income = \"))\n",
    "        storage_income = float(input(\"Storage Income = \"))\n",
    "        misc = float(input(\"Miscelaneos Income = \"))\n",
    "       \n",
    "        monthly_income = rental_income + laundry_income + storage_income + misc\n",
    "        print(f\"Total Monthly Income = ${monthly_income}\")\n",
    "    \n",
    "\n",
    "    # Method for expenses\n",
    "    def expenses(self):\n",
    "        taxes = float(input(\"Taxes = \"))\n",
    "        insurance = float(input(\"Insurance = \"))\n",
    "        HOA = float(input(\"HOA = \"))\n",
    "        lawn_snow = float(input(\"Lawn and Snow = \"))\n",
    "        vacancy = float(input(\"Vacancy = \"))\n",
    "        repairs = float(input(\"Repairs = \"))\n",
    "        cap_ex = float(input(\"Capital Expenditures = \"))\n",
    "        property_mgmt= float(input(\"Property Management = \"))\n",
    "        mortgage = float(input(\"Mortgage = \"))\n",
    "        \n",
    "        return tax + insurance + HOA + lawn_snow + vacancy + repairs + cap_ex + property_mgmt + mortgage\n",
    "       # print(f\"Total Monthly Expenses = ${monthly_expenses}\")\n",
    "        \n",
    "        \n",
    "        \n",
    "    def monthly_utilities(self):\n",
    "        electricity = float(input(\"Electricity: \"))\n",
    "        water = float(input(\"Water: \"))\n",
    "        sewer = float(input(\"Sewer: \"))\n",
    "        garbage = float(input(\"Garbage: \"))\n",
    "        gas = float(input(\"Gas: \"))\n",
    "    \n",
    "        return electricity + water + sewer + garbage + gas\n",
    "        #print(f\" Total Monthly Utilities ${monthly_utilities} \")\n",
    "    \n",
    "        total_monthly_expenses = monthly_expenses + monthly_utilities\n",
    "        print(f\" Total Monthly Expenses ${total_monthly_expenses}\")\n",
    "\n",
    "    roi_calculator()\n",
    "  "
   ]
  },
  {
   "cell_type": "code",
   "execution_count": null,
   "id": "85476f6e",
   "metadata": {},
   "outputs": [],
   "source": []
  },
  {
   "cell_type": "code",
   "execution_count": null,
   "id": "63b370f4",
   "metadata": {},
   "outputs": [],
   "source": []
  }
 ],
 "metadata": {
  "kernelspec": {
   "display_name": "Python 3 (ipykernel)",
   "language": "python",
   "name": "python3"
  },
  "language_info": {
   "codemirror_mode": {
    "name": "ipython",
    "version": 3
   },
   "file_extension": ".py",
   "mimetype": "text/x-python",
   "name": "python",
   "nbconvert_exporter": "python",
   "pygments_lexer": "ipython3",
   "version": "3.9.13"
  }
 },
 "nbformat": 4,
 "nbformat_minor": 5
}
